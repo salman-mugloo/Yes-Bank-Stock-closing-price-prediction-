{
  "nbformat": 4,
  "nbformat_minor": 0,
  "metadata": {
    "colab": {
      "provenance": [],
      "mount_file_id": "15A1frm_8-8xPIPsercn3wN24n_Ez5PQ4",
      "authorship_tag": "ABX9TyPjg9hcIbbaVLJV/PyySEnW",
      "include_colab_link": true
    },
    "kernelspec": {
      "name": "python3",
      "display_name": "Python 3"
    },
    "language_info": {
      "name": "python"
    }
  },
  "cells": [
    {
      "cell_type": "markdown",
      "metadata": {
        "id": "view-in-github",
        "colab_type": "text"
      },
      "source": [
        "<a href=\"https://colab.research.google.com/github/salman-mugloo/Yes-Bank-Stock-closing-price-prediction-/blob/main/ML_Model.ipynb\" target=\"_parent\"><img src=\"https://colab.research.google.com/assets/colab-badge.svg\" alt=\"Open In Colab\"/></a>"
      ]
    },
    {
      "cell_type": "markdown",
      "source": [
        "#Project Name: YES Bank Closing Stock Price Prediction"
      ],
      "metadata": {
        "id": "q4460TOHykE8"
      }
    },
    {
      "cell_type": "markdown",
      "source": [
        "#Project Type:\n",
        "Regression Problem (Time Series Forecasting)\n",
        "We're predicting the closing price, which is a continuous variable."
      ],
      "metadata": {
        "id": "vZATGbJ2ys_Q"
      }
    },
    {
      "cell_type": "markdown",
      "source": [],
      "metadata": {
        "id": "HXM8-YU8yzdV"
      }
    }
  ]
}